{
 "cells": [
  {
   "cell_type": "markdown",
   "metadata": {},
   "source": [
    "# Testing fixed angles with Carleton's code"
   ]
  },
  {
   "cell_type": "code",
   "execution_count": null,
   "metadata": {},
   "outputs": [],
   "source": [
    "degree = 3 # degree of graph\n",
    "rounds = 2 # number of rounds\n",
    "\n",
    "# Import modules and packages\n",
    "import numpy as np\n",
    "import json\n",
    "import os\n",
    "import sys\n",
    "sys.path[1:1] = [ \"../_common/\" ]\n",
    "import common\n",
    "import CC_solve_qaoa_long as sql \n",
    "import matplotlib.pyplot as plt\n",
    "\n",
    "# Load the fixed angles from angles_regular_graphs.json taken from https://github.com/danlkv/fixed-angle-QAOA\n",
    "with open(os.path.join(\"..\", \"_common\", 'angles_regular_graphs.json'), 'r') as json_file:\n",
    "    fixed_angles_orig = json.load(json_file) #'thetas_array', 'approx_ratio_list', 'num_qubits_list'\n",
    "deg_3_p_2 = fixed_angles_orig[str(degree)][str(rounds)]\n",
    "thetas_list = deg_3_p_2['beta'] + deg_3_p_2['gamma'] # betas are first followed by gammas\n",
    "# thetas_list = [t for t in thetas_list]\n",
    "for ind in range(rounds, 2 * rounds):\n",
    "    thetas_list[ind] *= -1/2"
   ]
  },
  {
   "cell_type": "code",
   "execution_count": null,
   "metadata": {},
   "outputs": [],
   "source": [
    "\n",
    "def ar_func(num_qubits = 4, rounds = 2, degree = 3, num_shots = 5000):\n",
    "    # Retrieve graph edges and optimal solution\n",
    "    unique_id = i = degree\n",
    "    instance_filename = os.path.join( \"..\", \"_common\", 'instances',f\"mc_{num_qubits:03d}_{i:03d}_000.txt\")\n",
    "    nodes, edges = common.read_maxcut_instance(instance_filename)\n",
    "    opt, _ = common.read_maxcut_solution(instance_filename[:-4]+'.sol')\n",
    "\n",
    "    G = (nodes, edges)\n",
    "    func = sql.compute_expectation(G, num_shots)\n",
    "    return - func(thetas_list)/opt\n"
   ]
  },
  {
   "cell_type": "code",
   "execution_count": null,
   "metadata": {},
   "outputs": [],
   "source": [
    "num_qubits_list = list(range(4,17,2))\n",
    "ar_list = [ar_func(num_qubits) for num_qubits in num_qubits_list]"
   ]
  },
  {
   "cell_type": "code",
   "execution_count": null,
   "metadata": {},
   "outputs": [],
   "source": [
    "fig, axs = plt.subplots(1, 1)\n",
    "suptitle = \"Approximation Ratio for Fixed Angle Simulation\\n rounds$={}$, degree=${}$ \\n\".format(rounds, degree)\n",
    "angle_str = \"\"\n",
    "for ind in range(rounds):\n",
    "    angle_str += r\"($\\beta_{}={:.3f}$,\".format(ind + 1, deg_3_p_2['beta'][ind])\n",
    "    angle_str += r\" $\\gamma_{}={:.3f}$) \".format(ind + 1, deg_3_p_2['gamma'][ind]) + \"\\n\"\n",
    "angle_str = angle_str[:-2]\n",
    "# and add the title to the plot\n",
    "plt.suptitle(suptitle + angle_str)\n",
    "\n",
    "# axs.plot(num_qubits_list, svs_list, marker='o', ls = '-', label = f\"State Vector Simulation\")\n",
    "axs.plot(num_qubits_list, ar_list, marker='o', ls = '-', label = f\"CC code QASM Simulation\")\n",
    "axs.axhline(y = deg_3_p_2['AR'], ls = 'dashed', label = f\"Performance Guarantee\")\n",
    "\n",
    "axs.set_ylabel('Approximation Ratio')\n",
    "axs.set_xlabel('Problem Size')\n",
    "axs.grid()\n",
    "\n",
    "axs.legend()\n",
    "\n",
    "fig.tight_layout()\n",
    "if not os.path.exists(\"__images\"): os.mkdir(\"__images\")\n",
    "plt.savefig(os.path.join(\"__images\", 'CC_fixed_angle.pdf'))\n",
    "plt.savefig(os.path.join(\"__images\", 'CC_fixed_angle.png'))"
   ]
  }
 ],
 "metadata": {
  "kernelspec": {
   "display_name": "Python 3.10.6",
   "language": "python",
   "name": "python3"
  },
  "language_info": {
   "codemirror_mode": {
    "name": "ipython",
    "version": 3
   },
   "file_extension": ".py",
   "mimetype": "text/x-python",
   "name": "python",
   "nbconvert_exporter": "python",
   "pygments_lexer": "ipython3",
   "version": "3.10.6"
  },
  "orig_nbformat": 4,
  "vscode": {
   "interpreter": {
    "hash": "e44408ae64f08698421cfee029c293cdd741178aaeb7c68f0d4d3b424bf56322"
   }
  }
 },
 "nbformat": 4,
 "nbformat_minor": 2
}
